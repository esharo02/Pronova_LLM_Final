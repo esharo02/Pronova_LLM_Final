{
 "cells": [
  {
   "cell_type": "markdown",
   "metadata": {},
   "source": [
    "# Pronova LLM Run Model #\n",
    "## Use this notebook to do the following ##\n",
    "- Run the current model on a query\n",
    "- start a flask api server that accepts a query and will return a response"
   ]
  },
  {
   "cell_type": "code",
   "execution_count": 3,
   "metadata": {},
   "outputs": [
    {
     "data": {
      "text/plain": [
       "True"
      ]
     },
     "execution_count": 3,
     "metadata": {},
     "output_type": "execute_result"
    }
   ],
   "source": [
    "# Load require libraries\n",
    "import os\n",
    "from qdrant_client import QdrantClient\n",
    "from qdrant_client.http import models\n",
    "from openai import OpenAI\n",
    "from dotenv import load_dotenv\n",
    "from IPython.display import Markdown, display\n",
    "\n",
    "# Load environment variables from .env file\n",
    "load_dotenv()\n",
    "\n",
    "# Install required libraries from the requirements.txt file\n",
    "# !pip install -r ../requirements.txt"
   ]
  },
  {
   "cell_type": "markdown",
   "metadata": {},
   "source": [
    "### Setup Qdrant connection ###"
   ]
  },
  {
   "cell_type": "code",
   "execution_count": 4,
   "metadata": {},
   "outputs": [
    {
     "name": "stdout",
     "output_type": "stream",
     "text": [
      "Successfully connected to Qdrant\n"
     ]
    }
   ],
   "source": [
    "# Get the Qdrant API key from the environment variable\n",
    "Qdrant_api_key = os.getenv('Qdrant_API_KEY')\n",
    "if not Qdrant_api_key:\n",
    "    raise ValueError(\"No Qdrant API key found in environment variables\")\n",
    "Qdrant_url = os.getenv('Qdrant_URL')\n",
    "if not Qdrant_url:\n",
    "    raise ValueError(\"No Qdrant URL found in environment variables\")\n",
    "\n",
    "\n",
    "# Initialize Qdrant client\n",
    "try:\n",
    "    Qclient = QdrantClient(\n",
    "        url= Qdrant_url,\n",
    "        api_key=Qdrant_api_key,\n",
    "        check_compatibility=False\n",
    "    )\n",
    "    print(\"Successfully connected to Qdrant\")\n",
    "except Exception as e:\n",
    "    print(f\"Failed to connect to Qdrant: {e}\")\n",
    "    raise"
   ]
  },
  {
   "cell_type": "markdown",
   "metadata": {},
   "source": [
    "### Setup OpenAI connection ###"
   ]
  },
  {
   "cell_type": "code",
   "execution_count": 5,
   "metadata": {},
   "outputs": [],
   "source": [
    "# Get the OpenAI API key from the environment variable\n",
    "OpenAI_api_key = os.getenv('OPENAI_API_KEY')\n",
    "if not OpenAI_api_key:\n",
    "    raise ValueError(\"No OpenAI API key found in environment variables\")\n",
    "\n",
    "OpenAI.api_key = OpenAI_api_key"
   ]
  },
  {
   "cell_type": "markdown",
   "metadata": {},
   "source": [
    "### Get an OpenAI embedding from a text segment (Function) ###"
   ]
  },
  {
   "cell_type": "code",
   "execution_count": 6,
   "metadata": {},
   "outputs": [],
   "source": [
    "# Function to get the embedding of a text\n",
    "def get_embedding(text):\n",
    "    client = OpenAI()\n",
    "    response = client.embeddings.create(\n",
    "        model=\"text-embedding-ada-002\",\n",
    "        input=text\n",
    "    )\n",
    "    return response.data[0].embedding"
   ]
  },
  {
   "cell_type": "markdown",
   "metadata": {},
   "source": [
    "### Retrieve similar chunks from query (Function) ###"
   ]
  },
  {
   "cell_type": "code",
   "execution_count": null,
   "metadata": {},
   "outputs": [],
   "source": [
    "def retrieve_relevant_chunks(collection_name, query, top_k=5, threshold=0.8):\n",
    "    query_embedding = get_embedding(query)\n",
    "    \n",
    "    search_result = Qclient.search(\n",
    "        collection_name=collection_name,\n",
    "        query_vector=query_embedding,\n",
    "        limit=top_k\n",
    "    \n",
    "    )\n",
    "\n",
    "    # points = Qclient.query_points(\n",
    "    #     collection_name=collection_name,\n",
    "    #     # vector=query_embedding,\n",
    "    #     query=query_embedding,\n",
    "    #     limit=top_k,\n",
    "    #     score_threshold=threshold\n",
    "    # )\n",
    "\n",
    "\n",
    "    filtered_points = [point for point in search_result if point.score >= threshold]\n",
    "    \n",
    "\n",
    "    contexts = [result.payload[\"text\"] for result in filtered_points]\n",
    "    urls = [result.payload.get(\"url\") for result in filtered_points]\n",
    "    \n",
    "    return contexts, urls\n"
   ]
  },
  {
   "cell_type": "code",
   "execution_count": 41,
   "metadata": {},
   "outputs": [
    {
     "name": "stdout",
     "output_type": "stream",
     "text": [
      "Generating response for query: My dog Bamba, a 5yo golden, has been limping after short walks.\n",
      "<class 'qdrant_client.http.models.models.QueryResponse'>\n",
      "<class 'list'>\n",
      "points=[ScoredPoint(id=2360, version=136, score=0.8439102, payload={'text': 'Teamjackson/iStock / Getty Images Plus via Getty Images\\nA limping dog is reluctant to put weight on one or more legs, usually due to pain. As a result, they have more difficulty walking. Seeing your dog limping can be scary and concerning.\\nLimping may be short-lived—sometimes a dog may limp for a few moments and then be fine. A dog may have a long-term or progressively worsening limp. In other cas', 'source_file': 'Why_Is_My_Dog_Limping.txt', 'topic': ' Why Is My Dog Limping?', 'url': 'https://www.petmd.com/dog/symptoms/why-is-my-dog-limping', 'author': 'Jennifer Coates, DVM', 'date': 'Apr. 4, 2024'}, vector=None, shard_key=None, order_value=None), ScoredPoint(id=2368, version=136, score=0.8412678, payload={'text': ', make an appointment with your veterinarian.\\nWhen severely limping, dogs may refuse to bear weight on the affected limb, or they may just barely tap their toes on the ground.\\nWhile severe dog limping should be evaluated by a veterinarian quickly, you should take your dog’s personality into account.\\nSome dogs will avoid bearing any weight on a mildly sore limb while others are stoic and will walk ', 'source_file': 'Why_Is_My_Dog_Limping.txt', 'topic': ' Why Is My Dog Limping?', 'url': 'https://www.petmd.com/dog/symptoms/why-is-my-dog-limping', 'author': 'Jennifer Coates, DVM', 'date': 'Apr. 4, 2024'}, vector=None, shard_key=None, order_value=None), ScoredPoint(id=16555, version=1026, score=0.832885, payload={'text': 'mbs, with symptoms that include:\\nLameness\\nLimping\\nStiffness\\nLethargy\\nPain\\nDifficulty moving\\nLegg-Calvé-Perthes disease is when the head of the dog’s femur breaks down, causing pain and limping. Young Miniature Poodles are susceptible to this condition, which can be managed with pain medications. But more often, dogs with Legg-Calvé-Perthes disease require surgical correction to live a normal, pain', 'source_file': 'Miniature_Poodle.txt', 'topic': 'Miniature Poodle', 'url': 'https://www.petmd.com/dog/breeds/miniature-poodle', 'author': 'Barri J. Morrison, DVM', 'date': 'May 8, 2023'}, vector=None, shard_key=None, order_value=None), ScoredPoint(id=2386, version=136, score=0.8328266, payload={'text': '\\nIf those symptoms are not present or she seems generally fine otherwise, call your vet to get her in as soon as possible.\\xa0\\nSome causes of limping may go away with just a little TLC, but it’s always best to have her evaluated than taking a “wait and see” approach.\\xa0\\nDo not attempt to give her any medications while waiting to get her examined. \\nLimping in dogs can last for several days or weeks for ', 'source_file': 'Why_Is_My_Dog_Limping.txt', 'topic': ' Why Is My Dog Limping?', 'url': 'https://www.petmd.com/dog/symptoms/why-is-my-dog-limping', 'author': 'Jennifer Coates, DVM', 'date': 'Apr. 4, 2024'}, vector=None, shard_key=None, order_value=None), ScoredPoint(id=10490, version=722, score=0.8319708, payload={'text': 'is not limping, low-impact exercise such as 15-minute slow walks is encouraged to maintain joint health. If your dog is still favoring, your veterinarian may recommend restricted activity to allow the joint time to rest.\\nYour veterinarian may prescribe an anti-inflammatory drug for your dog that helps ease pain and inflammation. Sometimes these medications can make dogs feel better and want to be ', 'source_file': 'Septic_Arthritis_in_Dogs.txt', 'topic': ' Septic Arthritis in Dogs', 'url': 'https://www.petmd.com//dog/conditions/musculoskeletal/c_dg_arthritis_septic', 'author': 'Melissa Boldan, DVM', 'date': 'Oct. 11, 2022'}, vector=None, shard_key=None, order_value=None)]\n"
     ]
    },
    {
     "ename": "AttributeError",
     "evalue": "'tuple' object has no attribute 'payload'",
     "output_type": "error",
     "traceback": [
      "\u001b[31m---------------------------------------------------------------------------\u001b[39m",
      "\u001b[31mAttributeError\u001b[39m                            Traceback (most recent call last)",
      "\u001b[36mCell\u001b[39m\u001b[36m \u001b[39m\u001b[32mIn[41]\u001b[39m\u001b[32m, line 4\u001b[39m\n\u001b[32m      2\u001b[39m collection_name = \u001b[33m\"\u001b[39m\u001b[33mFullModel\u001b[39m\u001b[33m\"\u001b[39m\n\u001b[32m      3\u001b[39m query = \u001b[33m\"\u001b[39m\u001b[33mMy dog Bamba, a 5yo golden, has been limping after short walks.\u001b[39m\u001b[33m\"\u001b[39m\n\u001b[32m----> \u001b[39m\u001b[32m4\u001b[39m query_list, context_list, response_list, files_list = \u001b[43mgenerate_response\u001b[49m\u001b[43m(\u001b[49m\u001b[43mcollection_name\u001b[49m\u001b[43m,\u001b[49m\u001b[43m \u001b[49m\u001b[43mquery\u001b[49m\u001b[43m,\u001b[49m\u001b[43m \u001b[49m\u001b[43m[\u001b[49m\u001b[43m]\u001b[49m\u001b[43m,\u001b[49m\u001b[43m \u001b[49m\u001b[43m[\u001b[49m\u001b[43m]\u001b[49m\u001b[43m,\u001b[49m\u001b[43m \u001b[49m\u001b[43m[\u001b[49m\u001b[43m]\u001b[49m\u001b[43m,\u001b[49m\u001b[43m \u001b[49m\u001b[43m[\u001b[49m\u001b[43m]\u001b[49m\u001b[43m)\u001b[49m\n\u001b[32m      7\u001b[39m \u001b[38;5;28mprint\u001b[39m(response_list[\u001b[32m0\u001b[39m])\n\u001b[32m      8\u001b[39m \u001b[38;5;28;01mfor\u001b[39;00m url \u001b[38;5;129;01min\u001b[39;00m files_list:\n",
      "\u001b[36mCell\u001b[39m\u001b[36m \u001b[39m\u001b[32mIn[11]\u001b[39m\u001b[32m, line 6\u001b[39m, in \u001b[36mgenerate_response\u001b[39m\u001b[34m(collection_name, query, all_query, all_context, all_responses, all_files)\u001b[39m\n\u001b[32m      4\u001b[39m \u001b[38;5;28mprint\u001b[39m(\u001b[33m\"\u001b[39m\u001b[33mGenerating response for query:\u001b[39m\u001b[33m\"\u001b[39m, query)\n\u001b[32m      5\u001b[39m \u001b[38;5;66;03m# generate context for new query\u001b[39;00m\n\u001b[32m----> \u001b[39m\u001b[32m6\u001b[39m context, files = \u001b[43mretrieve_relevant_chunks\u001b[49m\u001b[43m(\u001b[49m\u001b[43mcollection_name\u001b[49m\u001b[43m,\u001b[49m\u001b[43m \u001b[49m\u001b[43mquery\u001b[49m\u001b[43m)\u001b[49m\n\u001b[32m      8\u001b[39m \u001b[38;5;28;01mif\u001b[39;00m \u001b[33m\"\u001b[39m\u001b[33mURL not found\u001b[39m\u001b[33m\"\u001b[39m \u001b[38;5;129;01min\u001b[39;00m files:\n\u001b[32m      9\u001b[39m     \u001b[38;5;28mprint\u001b[39m(\u001b[33m\"\u001b[39m\u001b[33mURL not found in files, removing it\u001b[39m\u001b[33m\"\u001b[39m)\n",
      "\u001b[36mCell\u001b[39m\u001b[36m \u001b[39m\u001b[32mIn[40]\u001b[39m\u001b[32m, line 36\u001b[39m, in \u001b[36mretrieve_relevant_chunks\u001b[39m\u001b[34m(collection_name, query, top_k, threshold)\u001b[39m\n\u001b[32m     25\u001b[39m     \u001b[38;5;28mprint\u001b[39m(filtered_results)\n\u001b[32m     28\u001b[39m \u001b[38;5;66;03m#     ('points', [ScoredPoint(id=2360, version=136, score=0.8439102, payload={'text': 'Teamjackson/iStock / Getty Images Plus via Getty Images\\nA limping dog is reluctant to put weight on one or more legs, usually due to pain. As a result, they have more difficulty walking. Seeing your dog limping can be scary and concerning.\\nLimping may be short-lived—sometimes a dog may limp for a few moments and then be fine. A dog may have a long-term or progressively worsening limp. In other cas', 'source_file': 'Why_Is_My_Dog_Limping.txt', 'topic': ' Why Is My Dog Limping?', 'url': 'https://www.petmd.com/dog/symptoms/why-is-my-dog-limping', 'author': 'Jennifer Coates, DVM', 'date': 'Apr. 4, 2024'}, vector=None, shard_key=None, order_value=None), ScoredPoint(id=2368, version=136, score=0.8412678, payload={'text': ', make an appointment with your veterinarian.\\nWhen severely limping, dogs may refuse to bear weight on the affected limb, or they may just barely tap their toes on the ground.\\nWhile severe dog limping should be evaluated by a veterinarian quickly, you should take your dog’s personality into account.\\nSome dogs will avoid bearing any weight on a mildly sore limb while others are stoic and will walk ', 'source_file': 'Why_Is_My_Dog_Limping.txt', 'topic': ' Why Is My Dog Limping?', 'url': 'https://www.petmd.com/dog/symptoms/why-is-my-dog-limping', 'author': 'Jennifer Coates, DVM', 'date': 'Apr. 4, 2024'}, vector=None, shard_key=None, order_value=None), ScoredPoint(id=16555, version=1026, score=0.832885, payload={'text': 'mbs, with symptoms that include:\\nLameness\\nLimping\\nStiffness\\nLethargy\\nPain\\nDifficulty moving\\nLegg-Calvé-Perthes disease is when the head of the dog’s femur breaks down, causing pain and limping. Young Miniature Poodles are susceptible to this condition, which can be managed with pain medications. But more often, dogs with Legg-Calvé-Perthes disease require surgical correction to live a normal, pain', 'source_file': 'Miniature_Poodle.txt', 'topic': 'Miniature Poodle', 'url': 'https://www.petmd.com/dog/breeds/miniature-poodle', 'author': 'Barri J. Morrison, DVM', 'date': 'May 8, 2023'}, vector=None, shard_key=None, order_value=None), ScoredPoint(id=2386, version=136, score=0.8328266, payload={'text': '\\nIf those symptoms are not present or she seems generally fine otherwise, call your vet to get her in as soon as possible.\\xa0\\nSome causes of limping may go away with just a little TLC, but it’s always best to have her evaluated than taking a “wait and see” approach.\\xa0\\nDo not attempt to give her any medications while waiting to get her examined. \\nLimping in dogs can last for several days or weeks for ', 'source_file': 'Why_Is_My_Dog_Limping.txt', 'topic': ' Why Is My Dog Limping?', 'url': 'https://www.petmd.com/dog/symptoms/why-is-my-dog-limping', 'author': 'Jennifer Coates, DVM', 'date': 'Apr. 4, 2024'}, vector=None, shard_key=None, order_value=None), ScoredPoint(id=10490, version=722, score=0.8319708, payload={'text': 'is not limping, low-impact exercise such as 15-minute slow walks is encouraged to maintain joint health. If your dog is still favoring, your veterinarian may recommend restricted activity to allow the joint time to rest.\\nYour veterinarian may prescribe an anti-inflammatory drug for your dog that helps ease pain and inflammation. Sometimes these medications can make dogs feel better and want to be ', 'source_file': 'Septic_Arthritis_in_Dogs.txt', 'topic': ' Septic Arthritis in Dogs', 'url': 'https://www.petmd.com//dog/conditions/musculoskeletal/c_dg_arthritis_septic', 'author': 'Melissa Boldan, DVM', 'date': 'Oct. 11, 2022'}, vector=None, shard_key=None, order_value=None)])\u001b[39;00m\n\u001b[32m     29\u001b[39m \u001b[38;5;66;03m# <class 'tuple'>\u001b[39;00m\n\u001b[32m     30\u001b[39m \n\u001b[32m     31\u001b[39m     \u001b[38;5;66;03m# filtered_results = [\u001b[39;00m\n\u001b[32m     32\u001b[39m     \u001b[38;5;66;03m#     result for result in search_result if result.score >= threshold\u001b[39;00m\n\u001b[32m     33\u001b[39m     \u001b[38;5;66;03m# ]\u001b[39;00m\n\u001b[32m---> \u001b[39m\u001b[32m36\u001b[39m     contexts = [\u001b[43mresult\u001b[49m\u001b[43m.\u001b[49m\u001b[43mpayload\u001b[49m[\u001b[33m\"\u001b[39m\u001b[33mtext\u001b[39m\u001b[33m\"\u001b[39m] \u001b[38;5;28;01mfor\u001b[39;00m result \u001b[38;5;129;01min\u001b[39;00m filtered_results]\n\u001b[32m     37\u001b[39m     urls = [result.payload.get(\u001b[33m\"\u001b[39m\u001b[33murl\u001b[39m\u001b[33m\"\u001b[39m) \u001b[38;5;28;01mfor\u001b[39;00m result \u001b[38;5;129;01min\u001b[39;00m filtered_results]\n\u001b[32m     39\u001b[39m     \u001b[38;5;28;01mreturn\u001b[39;00m contexts, urls\n",
      "\u001b[31mAttributeError\u001b[39m: 'tuple' object has no attribute 'payload'"
     ]
    }
   ],
   "source": [
    "# Qclient.get_collections()\n",
    "collection_name = \"FullModel\"\n",
    "query = \"My dog Bamba, a 5yo golden, has been limping after short walks.\"\n",
    "query_list, context_list, response_list, files_list = generate_response(collection_name, query, [], [], [], [])\n",
    "\n",
    "\n",
    "print(response_list[0])\n",
    "for url in files_list:\n",
    "    print(url)\n"
   ]
  },
  {
   "cell_type": "markdown",
   "metadata": {},
   "source": [
    "### Rank response source importance Function"
   ]
  },
  {
   "cell_type": "code",
   "execution_count": 9,
   "metadata": {},
   "outputs": [],
   "source": [
    "from collections import Counter\n",
    "\n",
    "def file_ratios(files):\n",
    "    total_files = len(files)\n",
    "    counts = Counter(files)\n",
    "    return {file: count*100 / total_files for file, count in counts.items()}\n",
    "\n",
    "\n",
    "# file_ratios([\"a\", \"a\", \"b\", \"c\"])\n",
    "# {'a': 0.5, 'b': 0.25, 'c': 0.25}"
   ]
  },
  {
   "cell_type": "markdown",
   "metadata": {},
   "source": [
    "### Markdown Print Function ###"
   ]
  },
  {
   "cell_type": "code",
   "execution_count": 10,
   "metadata": {},
   "outputs": [],
   "source": [
    "def print_markdown(md_text):\n",
    "    display(Markdown(md_text))"
   ]
  },
  {
   "cell_type": "markdown",
   "metadata": {},
   "source": [
    "### Generate Response from Query (Function) ###"
   ]
  },
  {
   "cell_type": "code",
   "execution_count": 11,
   "metadata": {},
   "outputs": [],
   "source": [
    "import numpy as np\n",
    "\n",
    "def generate_response(collection_name, query, all_query, all_context, all_responses, all_files):\n",
    "    print(\"Generating response for query:\", query)\n",
    "    # generate context for new query\n",
    "    context, files = retrieve_relevant_chunks(collection_name, query)\n",
    "    \n",
    "    if \"URL not found\" in files:\n",
    "        print(\"URL not found in files, removing it\")\n",
    "        # remove the URL not found from the list of files\n",
    "        files.remove(\"URL not found\")    \n",
    "\n",
    "    system_role = \"You are a specialized assistant that only provides advice on dog-related veterinary care. If a user asks about any other animal or topic outside of dog health, politely decline to answer and remind them that you only provide information about dogs. You will always start by asking the user their dog's name, age, and breed if they didn't already provide it.\"\n",
    "    # Combine retrieved chunks into a single string\n",
    "    context_text = \"\\n\".join(context)\n",
    "\n",
    "    if files:\n",
    "        # print(\"Adding new files: \", files)\n",
    "        all_files.extend(files)\n",
    "    # append query and context to the running lists\n",
    "    all_query.append(query)\n",
    "    all_context.append(context_text)\n",
    "\n",
    "    # print(\"All files used now:\", all_files)\n",
    "    # create the messages object using all the queries and contexts\n",
    "    messages = [{\"role\": \"system\", \"content\": system_role}]\n",
    "\n",
    "    for i in range(len(all_query)):\n",
    "        messages.append({\"role\": \"system\", \"content\": \"Use this context to answer my following question: \" + all_context[i]})\n",
    "        messages.append({\"role\": \"user\", \"content\": all_query[i]})\n",
    "        if i < len(all_responses):\n",
    "            messages.append({\"role\": \"system\", \"content\": all_responses[i]})\n",
    "    \n",
    "    # print(messages)\n",
    "\n",
    "\n",
    "    # Generate a response using GPT-4\n",
    "    client = OpenAI()\n",
    "    completion = client.chat.completions.create(\n",
    "        model=\"gpt-4o-mini-2024-07-18\",\n",
    "        messages=messages\n",
    "    )\n",
    "    all_responses.append(completion.choices[0].message.content)\n",
    "    return all_query, all_context, all_responses, all_files\n"
   ]
  },
  {
   "cell_type": "code",
   "execution_count": 12,
   "metadata": {},
   "outputs": [],
   "source": [
    "import json\n",
    "\n",
    "# to confirm that each file has a properly stored citation\n",
    "def get_citation(filename):\n",
    "    # files_list = [\"../sources/sources_amva.json\", \" ../sources/sources_petMD_allergies.json\", \"/sources_petMD_behavior.json\",  \"/source.json\", \"/sources_petMD_care_healthy_living.json\", \"/sources_petMD_nutrition.json\", \"/sources_petMD_procedures.json\", \"/sources_petMD_symptoms.json\", \"/sources_petMD.json\"]\n",
    "    files_list = [f\"../sources/{file}\" for file in os.listdir(\"../sources\") if file.endswith('.json')]\n",
    "    # print(files_list)\n",
    "    citation = {}\n",
    "    \n",
    "    for file in files_list:\n",
    "        with open(file, 'r', encoding='utf-8') as f:\n",
    "            sources = json.load(f)\n",
    "            if filename in sources:\n",
    "                citation = sources[filename]\n",
    "                break\n",
    "    \n",
    "    url = citation.get('URL', 'URL not found')\n",
    "    author = citation.get('Author', 'Author not found')\n",
    "    date = citation.get('Date', 'Date not found')\n",
    "    topic = citation.get('Topic', 'Topic not found')\n",
    "    \n",
    "    \n",
    "    return topic, url, author, date\n"
   ]
  },
  {
   "cell_type": "markdown",
   "metadata": {},
   "source": [
    "### Playground (use this to test querys in the notebook)"
   ]
  },
  {
   "cell_type": "markdown",
   "metadata": {},
   "source": [
    "### Lightweight Flask Server (for Frontend API testing) ###"
   ]
  },
  {
   "cell_type": "code",
   "execution_count": null,
   "metadata": {},
   "outputs": [],
   "source": [
    "from flask import Flask, request, jsonify\n",
    "from flask_cors import CORS\n",
    "\n",
    "collection_name = \"FullModel\" # for eyals db\n",
    "# collection_name = \"LLM_V1\"  # for other db\n",
    "\n",
    "\n",
    "app = Flask(__name__)\n",
    "CORS(app)  # This will enable CORS for all routes\n",
    "\n",
    "@app.route('/query', methods=['POST'])\n",
    "def query_llm():\n",
    "    data = request.json\n",
    "    new_query = data.get('new_query')\n",
    "    queries = data.get('queries')\n",
    "    contexts = data.get('contexts')\n",
    "    responses = data.get('responses')\n",
    "    \n",
    "    # if not new_query or not queries or not contexts or not responses:\n",
    "    #     return jsonify({'error': 'New query, queries, contexts, and responses must be provided'}), 400\n",
    "\n",
    "    try:\n",
    "        updated_queries, updated_contexts, updated_responses = generate_response(collection_name, new_query, queries, contexts, responses)\n",
    "        return jsonify({\n",
    "            'queries': updated_queries,\n",
    "            'contexts': updated_contexts,\n",
    "            'responses': updated_responses\n",
    "        })\n",
    "    except Exception as e:\n",
    "        return jsonify({'error': str(e)}), 500\n",
    "\n",
    "if __name__ == '__main__':\n",
    "    app.run(host='0.0.0.0', port=5000)"
   ]
  }
 ],
 "metadata": {
  "kernelspec": {
   "display_name": ".venv",
   "language": "python",
   "name": "python3"
  },
  "language_info": {
   "codemirror_mode": {
    "name": "ipython",
    "version": 3
   },
   "file_extension": ".py",
   "mimetype": "text/x-python",
   "name": "python",
   "nbconvert_exporter": "python",
   "pygments_lexer": "ipython3",
   "version": "3.12.4"
  }
 },
 "nbformat": 4,
 "nbformat_minor": 2
}
